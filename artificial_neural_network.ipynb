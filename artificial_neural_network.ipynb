{
  "nbformat": 4,
  "nbformat_minor": 0,
  "metadata": {
    "colab": {
      "name": "artificial_neural_network.ipynb",
      "provenance": [],
      "collapsed_sections": [],
      "toc_visible": true,
      "mount_file_id": "1p4ypjm61W5i3wydy1UsU8-4Tn1pZzbZI",
      "authorship_tag": "ABX9TyNcNNHysz0o/VjNKnq7I78B",
      "include_colab_link": true
    },
    "kernelspec": {
      "name": "python3",
      "display_name": "Python 3"
    }
  },
  "cells": [
    {
      "cell_type": "markdown",
      "metadata": {
        "id": "view-in-github",
        "colab_type": "text"
      },
      "source": [
        "<a href=\"https://colab.research.google.com/github/dimaswisodewo/Classification-using-ANN/blob/main/artificial_neural_network.ipynb\" target=\"_parent\"><img src=\"https://colab.research.google.com/assets/colab-badge.svg\" alt=\"Open In Colab\"/></a>"
      ]
    },
    {
      "cell_type": "markdown",
      "metadata": {
        "id": "Bw3tU3GdZC3F"
      },
      "source": [
        "# Artificial Neural Network"
      ]
    },
    {
      "cell_type": "markdown",
      "metadata": {
        "id": "k1jlOOEBZKnb"
      },
      "source": [
        "## Importing the libraries"
      ]
    },
    {
      "cell_type": "code",
      "metadata": {
        "id": "iWawFO7mXa1V"
      },
      "source": [
        "import numpy as np\r\n",
        "import pandas as pd\r\n",
        "import tensorflow as tf"
      ],
      "execution_count": 117,
      "outputs": []
    },
    {
      "cell_type": "code",
      "metadata": {
        "colab": {
          "base_uri": "https://localhost:8080/",
          "height": 35
        },
        "id": "uosS9xj3ZXgp",
        "outputId": "1de0dbd2-1b05-48d8-ff68-f78b02dc4d33"
      },
      "source": [
        "tf.__version__"
      ],
      "execution_count": 118,
      "outputs": [
        {
          "output_type": "execute_result",
          "data": {
            "application/vnd.google.colaboratory.intrinsic+json": {
              "type": "string"
            },
            "text/plain": [
              "'2.4.0'"
            ]
          },
          "metadata": {
            "tags": []
          },
          "execution_count": 118
        }
      ]
    },
    {
      "cell_type": "markdown",
      "metadata": {
        "id": "gfODHgEMZgda"
      },
      "source": [
        "# Part 1 - Data Preprocessing"
      ]
    },
    {
      "cell_type": "markdown",
      "metadata": {
        "id": "DLZn9SCHZqxl"
      },
      "source": [
        "## Importing the dataset"
      ]
    },
    {
      "cell_type": "code",
      "metadata": {
        "colab": {
          "base_uri": "https://localhost:8080/"
        },
        "id": "6wN0aTgSZwPf",
        "outputId": "b3cbba99-adc9-4183-9bcd-0aa8d6c4aa88"
      },
      "source": [
        "from google.colab import drive\r\n",
        "\r\n",
        "drive.mount('/content/drive')"
      ],
      "execution_count": 119,
      "outputs": [
        {
          "output_type": "stream",
          "text": [
            "Drive already mounted at /content/drive; to attempt to forcibly remount, call drive.mount(\"/content/drive\", force_remount=True).\n"
          ],
          "name": "stdout"
        }
      ]
    },
    {
      "cell_type": "code",
      "metadata": {
        "colab": {
          "base_uri": "https://localhost:8080/"
        },
        "id": "-12y4w_nbe-R",
        "outputId": "e744fc0a-ce91-46e0-e413-8a27425a80ed"
      },
      "source": [
        "!ls \"/content/drive/MyDrive/Colab Notebooks/Deep Learning/Artificial Neural Network (ANN)/\""
      ],
      "execution_count": 120,
      "outputs": [
        {
          "output_type": "stream",
          "text": [
            "artificial_neural_network.ipynb  Churn_Modelling.csv\n"
          ],
          "name": "stdout"
        }
      ]
    },
    {
      "cell_type": "code",
      "metadata": {
        "id": "6uNCrz8mb-sh"
      },
      "source": [
        "dataset = pd.read_csv('/content/drive/MyDrive/Colab Notebooks/Deep Learning/Artificial Neural Network (ANN)/Churn_Modelling.csv')"
      ],
      "execution_count": 121,
      "outputs": []
    },
    {
      "cell_type": "code",
      "metadata": {
        "colab": {
          "base_uri": "https://localhost:8080/",
          "height": 419
        },
        "id": "cwVkX3oVcFoQ",
        "outputId": "f4d1029d-18b1-4cbe-9212-fb3403e5f455"
      },
      "source": [
        "dataset"
      ],
      "execution_count": 122,
      "outputs": [
        {
          "output_type": "execute_result",
          "data": {
            "text/html": [
              "<div>\n",
              "<style scoped>\n",
              "    .dataframe tbody tr th:only-of-type {\n",
              "        vertical-align: middle;\n",
              "    }\n",
              "\n",
              "    .dataframe tbody tr th {\n",
              "        vertical-align: top;\n",
              "    }\n",
              "\n",
              "    .dataframe thead th {\n",
              "        text-align: right;\n",
              "    }\n",
              "</style>\n",
              "<table border=\"1\" class=\"dataframe\">\n",
              "  <thead>\n",
              "    <tr style=\"text-align: right;\">\n",
              "      <th></th>\n",
              "      <th>RowNumber</th>\n",
              "      <th>CustomerId</th>\n",
              "      <th>Surname</th>\n",
              "      <th>CreditScore</th>\n",
              "      <th>Geography</th>\n",
              "      <th>Gender</th>\n",
              "      <th>Age</th>\n",
              "      <th>Tenure</th>\n",
              "      <th>Balance</th>\n",
              "      <th>NumOfProducts</th>\n",
              "      <th>HasCrCard</th>\n",
              "      <th>IsActiveMember</th>\n",
              "      <th>EstimatedSalary</th>\n",
              "      <th>Exited</th>\n",
              "    </tr>\n",
              "  </thead>\n",
              "  <tbody>\n",
              "    <tr>\n",
              "      <th>0</th>\n",
              "      <td>1</td>\n",
              "      <td>15634602</td>\n",
              "      <td>Hargrave</td>\n",
              "      <td>619</td>\n",
              "      <td>France</td>\n",
              "      <td>Female</td>\n",
              "      <td>42</td>\n",
              "      <td>2</td>\n",
              "      <td>0.00</td>\n",
              "      <td>1</td>\n",
              "      <td>1</td>\n",
              "      <td>1</td>\n",
              "      <td>101348.88</td>\n",
              "      <td>1</td>\n",
              "    </tr>\n",
              "    <tr>\n",
              "      <th>1</th>\n",
              "      <td>2</td>\n",
              "      <td>15647311</td>\n",
              "      <td>Hill</td>\n",
              "      <td>608</td>\n",
              "      <td>Spain</td>\n",
              "      <td>Female</td>\n",
              "      <td>41</td>\n",
              "      <td>1</td>\n",
              "      <td>83807.86</td>\n",
              "      <td>1</td>\n",
              "      <td>0</td>\n",
              "      <td>1</td>\n",
              "      <td>112542.58</td>\n",
              "      <td>0</td>\n",
              "    </tr>\n",
              "    <tr>\n",
              "      <th>2</th>\n",
              "      <td>3</td>\n",
              "      <td>15619304</td>\n",
              "      <td>Onio</td>\n",
              "      <td>502</td>\n",
              "      <td>France</td>\n",
              "      <td>Female</td>\n",
              "      <td>42</td>\n",
              "      <td>8</td>\n",
              "      <td>159660.80</td>\n",
              "      <td>3</td>\n",
              "      <td>1</td>\n",
              "      <td>0</td>\n",
              "      <td>113931.57</td>\n",
              "      <td>1</td>\n",
              "    </tr>\n",
              "    <tr>\n",
              "      <th>3</th>\n",
              "      <td>4</td>\n",
              "      <td>15701354</td>\n",
              "      <td>Boni</td>\n",
              "      <td>699</td>\n",
              "      <td>France</td>\n",
              "      <td>Female</td>\n",
              "      <td>39</td>\n",
              "      <td>1</td>\n",
              "      <td>0.00</td>\n",
              "      <td>2</td>\n",
              "      <td>0</td>\n",
              "      <td>0</td>\n",
              "      <td>93826.63</td>\n",
              "      <td>0</td>\n",
              "    </tr>\n",
              "    <tr>\n",
              "      <th>4</th>\n",
              "      <td>5</td>\n",
              "      <td>15737888</td>\n",
              "      <td>Mitchell</td>\n",
              "      <td>850</td>\n",
              "      <td>Spain</td>\n",
              "      <td>Female</td>\n",
              "      <td>43</td>\n",
              "      <td>2</td>\n",
              "      <td>125510.82</td>\n",
              "      <td>1</td>\n",
              "      <td>1</td>\n",
              "      <td>1</td>\n",
              "      <td>79084.10</td>\n",
              "      <td>0</td>\n",
              "    </tr>\n",
              "    <tr>\n",
              "      <th>...</th>\n",
              "      <td>...</td>\n",
              "      <td>...</td>\n",
              "      <td>...</td>\n",
              "      <td>...</td>\n",
              "      <td>...</td>\n",
              "      <td>...</td>\n",
              "      <td>...</td>\n",
              "      <td>...</td>\n",
              "      <td>...</td>\n",
              "      <td>...</td>\n",
              "      <td>...</td>\n",
              "      <td>...</td>\n",
              "      <td>...</td>\n",
              "      <td>...</td>\n",
              "    </tr>\n",
              "    <tr>\n",
              "      <th>9995</th>\n",
              "      <td>9996</td>\n",
              "      <td>15606229</td>\n",
              "      <td>Obijiaku</td>\n",
              "      <td>771</td>\n",
              "      <td>France</td>\n",
              "      <td>Male</td>\n",
              "      <td>39</td>\n",
              "      <td>5</td>\n",
              "      <td>0.00</td>\n",
              "      <td>2</td>\n",
              "      <td>1</td>\n",
              "      <td>0</td>\n",
              "      <td>96270.64</td>\n",
              "      <td>0</td>\n",
              "    </tr>\n",
              "    <tr>\n",
              "      <th>9996</th>\n",
              "      <td>9997</td>\n",
              "      <td>15569892</td>\n",
              "      <td>Johnstone</td>\n",
              "      <td>516</td>\n",
              "      <td>France</td>\n",
              "      <td>Male</td>\n",
              "      <td>35</td>\n",
              "      <td>10</td>\n",
              "      <td>57369.61</td>\n",
              "      <td>1</td>\n",
              "      <td>1</td>\n",
              "      <td>1</td>\n",
              "      <td>101699.77</td>\n",
              "      <td>0</td>\n",
              "    </tr>\n",
              "    <tr>\n",
              "      <th>9997</th>\n",
              "      <td>9998</td>\n",
              "      <td>15584532</td>\n",
              "      <td>Liu</td>\n",
              "      <td>709</td>\n",
              "      <td>France</td>\n",
              "      <td>Female</td>\n",
              "      <td>36</td>\n",
              "      <td>7</td>\n",
              "      <td>0.00</td>\n",
              "      <td>1</td>\n",
              "      <td>0</td>\n",
              "      <td>1</td>\n",
              "      <td>42085.58</td>\n",
              "      <td>1</td>\n",
              "    </tr>\n",
              "    <tr>\n",
              "      <th>9998</th>\n",
              "      <td>9999</td>\n",
              "      <td>15682355</td>\n",
              "      <td>Sabbatini</td>\n",
              "      <td>772</td>\n",
              "      <td>Germany</td>\n",
              "      <td>Male</td>\n",
              "      <td>42</td>\n",
              "      <td>3</td>\n",
              "      <td>75075.31</td>\n",
              "      <td>2</td>\n",
              "      <td>1</td>\n",
              "      <td>0</td>\n",
              "      <td>92888.52</td>\n",
              "      <td>1</td>\n",
              "    </tr>\n",
              "    <tr>\n",
              "      <th>9999</th>\n",
              "      <td>10000</td>\n",
              "      <td>15628319</td>\n",
              "      <td>Walker</td>\n",
              "      <td>792</td>\n",
              "      <td>France</td>\n",
              "      <td>Female</td>\n",
              "      <td>28</td>\n",
              "      <td>4</td>\n",
              "      <td>130142.79</td>\n",
              "      <td>1</td>\n",
              "      <td>1</td>\n",
              "      <td>0</td>\n",
              "      <td>38190.78</td>\n",
              "      <td>0</td>\n",
              "    </tr>\n",
              "  </tbody>\n",
              "</table>\n",
              "<p>10000 rows × 14 columns</p>\n",
              "</div>"
            ],
            "text/plain": [
              "      RowNumber  CustomerId    Surname  ...  IsActiveMember EstimatedSalary Exited\n",
              "0             1    15634602   Hargrave  ...               1       101348.88      1\n",
              "1             2    15647311       Hill  ...               1       112542.58      0\n",
              "2             3    15619304       Onio  ...               0       113931.57      1\n",
              "3             4    15701354       Boni  ...               0        93826.63      0\n",
              "4             5    15737888   Mitchell  ...               1        79084.10      0\n",
              "...         ...         ...        ...  ...             ...             ...    ...\n",
              "9995       9996    15606229   Obijiaku  ...               0        96270.64      0\n",
              "9996       9997    15569892  Johnstone  ...               1       101699.77      0\n",
              "9997       9998    15584532        Liu  ...               1        42085.58      1\n",
              "9998       9999    15682355  Sabbatini  ...               0        92888.52      1\n",
              "9999      10000    15628319     Walker  ...               0        38190.78      0\n",
              "\n",
              "[10000 rows x 14 columns]"
            ]
          },
          "metadata": {
            "tags": []
          },
          "execution_count": 122
        }
      ]
    },
    {
      "cell_type": "code",
      "metadata": {
        "id": "C4A0woLBdEDZ"
      },
      "source": [
        "X = dataset.iloc[:,3:-1].values\r\n",
        "y = dataset.iloc[:,-1].values"
      ],
      "execution_count": 123,
      "outputs": []
    },
    {
      "cell_type": "code",
      "metadata": {
        "colab": {
          "base_uri": "https://localhost:8080/"
        },
        "id": "S-MGsUwHdKm_",
        "outputId": "29a6d1fd-02ed-4e18-9dab-79e8ac58ca7a"
      },
      "source": [
        "print(X)"
      ],
      "execution_count": 124,
      "outputs": [
        {
          "output_type": "stream",
          "text": [
            "[[619 'France' 'Female' ... 1 1 101348.88]\n",
            " [608 'Spain' 'Female' ... 0 1 112542.58]\n",
            " [502 'France' 'Female' ... 1 0 113931.57]\n",
            " ...\n",
            " [709 'France' 'Female' ... 0 1 42085.58]\n",
            " [772 'Germany' 'Male' ... 1 0 92888.52]\n",
            " [792 'France' 'Female' ... 1 0 38190.78]]\n"
          ],
          "name": "stdout"
        }
      ]
    },
    {
      "cell_type": "code",
      "metadata": {
        "colab": {
          "base_uri": "https://localhost:8080/"
        },
        "id": "SAfn8DOTdXo5",
        "outputId": "1eda7909-e704-4e3a-fa6f-6d0fd9405c17"
      },
      "source": [
        "print(y)"
      ],
      "execution_count": 125,
      "outputs": [
        {
          "output_type": "stream",
          "text": [
            "[1 0 1 ... 1 1 0]\n"
          ],
          "name": "stdout"
        }
      ]
    },
    {
      "cell_type": "markdown",
      "metadata": {
        "id": "_-EeRLgofJ77"
      },
      "source": [
        "## Encoding Categorical Data"
      ]
    },
    {
      "cell_type": "markdown",
      "metadata": {
        "id": "JepR0C3jfNVQ"
      },
      "source": [
        "### Label Encoding the \"Gender\" column"
      ]
    },
    {
      "cell_type": "code",
      "metadata": {
        "id": "cBABN0ovdZ3Y"
      },
      "source": [
        "from sklearn.preprocessing import LabelEncoder\r\n",
        "\r\n",
        "le = LabelEncoder()\r\n",
        "X[:,2] = le.fit_transform(X[:,2])"
      ],
      "execution_count": 126,
      "outputs": []
    },
    {
      "cell_type": "code",
      "metadata": {
        "colab": {
          "base_uri": "https://localhost:8080/"
        },
        "id": "FSUoDU5voB6y",
        "outputId": "e660fa92-ab53-4745-9bd9-13fb1cc319ad"
      },
      "source": [
        "print(X)"
      ],
      "execution_count": 127,
      "outputs": [
        {
          "output_type": "stream",
          "text": [
            "[[619 'France' 0 ... 1 1 101348.88]\n",
            " [608 'Spain' 0 ... 0 1 112542.58]\n",
            " [502 'France' 0 ... 1 0 113931.57]\n",
            " ...\n",
            " [709 'France' 0 ... 0 1 42085.58]\n",
            " [772 'Germany' 1 ... 1 0 92888.52]\n",
            " [792 'France' 0 ... 1 0 38190.78]]\n"
          ],
          "name": "stdout"
        }
      ]
    },
    {
      "cell_type": "markdown",
      "metadata": {
        "id": "WOjk8VCtfTQl"
      },
      "source": [
        "### One Hot Encoding the \"Geography\" column"
      ]
    },
    {
      "cell_type": "code",
      "metadata": {
        "id": "mDg8CQbpoJlj"
      },
      "source": [
        "from sklearn.compose import ColumnTransformer\r\n",
        "from sklearn.preprocessing import OneHotEncoder\r\n",
        "\r\n",
        "ct = ColumnTransformer(transformers=[('encoder', OneHotEncoder(), [1])], remainder='passthrough')\r\n",
        "X = ct.fit_transform(X)"
      ],
      "execution_count": 128,
      "outputs": []
    },
    {
      "cell_type": "code",
      "metadata": {
        "colab": {
          "base_uri": "https://localhost:8080/"
        },
        "id": "KP8jhBYFqoja",
        "outputId": "5022061b-dbe5-4b81-8f98-f8c61e9630f7"
      },
      "source": [
        "print(X)"
      ],
      "execution_count": 129,
      "outputs": [
        {
          "output_type": "stream",
          "text": [
            "[[1.0 0.0 0.0 ... 1 1 101348.88]\n",
            " [0.0 0.0 1.0 ... 0 1 112542.58]\n",
            " [1.0 0.0 0.0 ... 1 0 113931.57]\n",
            " ...\n",
            " [1.0 0.0 0.0 ... 0 1 42085.58]\n",
            " [0.0 1.0 0.0 ... 1 0 92888.52]\n",
            " [1.0 0.0 0.0 ... 1 0 38190.78]]\n"
          ],
          "name": "stdout"
        }
      ]
    },
    {
      "cell_type": "code",
      "metadata": {
        "colab": {
          "base_uri": "https://localhost:8080/"
        },
        "id": "aegjrfXwrJjB",
        "outputId": "246a4895-2623-4797-f972-c98eac86f8aa"
      },
      "source": [
        "print(X[0])"
      ],
      "execution_count": 130,
      "outputs": [
        {
          "output_type": "stream",
          "text": [
            "[1.0 0.0 0.0 619 0 42 2 0.0 1 1 1 101348.88]\n"
          ],
          "name": "stdout"
        }
      ]
    },
    {
      "cell_type": "markdown",
      "metadata": {
        "id": "w0KqY3yds3NI"
      },
      "source": [
        "## Splitting the dataset into the Training Set and Testing Set"
      ]
    },
    {
      "cell_type": "code",
      "metadata": {
        "id": "qUzja58DrpDd"
      },
      "source": [
        "from sklearn.model_selection import train_test_split\r\n",
        "\r\n",
        "X_train, X_test, y_train, y_test = train_test_split(X, y, test_size=0.2, random_state=0)"
      ],
      "execution_count": 131,
      "outputs": []
    },
    {
      "cell_type": "markdown",
      "metadata": {
        "id": "YoufS_Tes-GJ"
      },
      "source": [
        "## Feature Scaling"
      ]
    },
    {
      "cell_type": "code",
      "metadata": {
        "id": "XB1QpyI8tOPy"
      },
      "source": [
        "from sklearn.preprocessing import StandardScaler\r\n",
        "\r\n",
        "sc = StandardScaler()\r\n",
        "X_train = sc.fit_transform(X_train)\r\n",
        "X_test = sc.transform(X_test)"
      ],
      "execution_count": 132,
      "outputs": []
    },
    {
      "cell_type": "code",
      "metadata": {
        "colab": {
          "base_uri": "https://localhost:8080/"
        },
        "id": "9-MKXD5Ft-k7",
        "outputId": "c9f99179-246d-4692-dd1e-65c642d6d135"
      },
      "source": [
        "print(X_train[:10])"
      ],
      "execution_count": 133,
      "outputs": [
        {
          "output_type": "stream",
          "text": [
            "[[-1.01460667 -0.5698444   1.74309049  0.16958176 -1.09168714 -0.46460796\n",
            "   0.00666099 -1.21571749  0.8095029   0.64259497 -1.03227043  1.10643166]\n",
            " [-1.01460667  1.75486502 -0.57369368 -2.30455945  0.91601335  0.30102557\n",
            "  -1.37744033 -0.00631193 -0.92159124  0.64259497  0.9687384  -0.74866447]\n",
            " [ 0.98560362 -0.5698444  -0.57369368 -1.19119591 -1.09168714 -0.94312892\n",
            "  -1.031415    0.57993469 -0.92159124  0.64259497 -1.03227043  1.48533467]\n",
            " [-1.01460667 -0.5698444   1.74309049  0.03556578  0.91601335  0.10961719\n",
            "   0.00666099  0.47312769 -0.92159124  0.64259497 -1.03227043  1.27652776]\n",
            " [-1.01460667 -0.5698444   1.74309049  2.05611444 -1.09168714  1.73658844\n",
            "   1.04473698  0.8101927   0.8095029   0.64259497  0.9687384   0.55837842]\n",
            " [-1.01460667  1.75486502 -0.57369368  1.29325423 -1.09168714 -0.17749539\n",
            "  -1.031415    0.44253504  0.8095029   0.64259497 -1.03227043  1.63252134]\n",
            " [ 0.98560362 -0.5698444  -0.57369368  1.6128308   0.91601335  0.77954653\n",
            "  -1.37744033  0.30432823 -0.92159124 -1.55619021 -1.03227043  0.48149647]\n",
            " [-1.01460667 -0.5698444   1.74309049 -0.54173384  0.91601335  0.20532138\n",
            "   1.04473698 -1.21571749  0.8095029   0.64259497  0.9687384   1.07382167]\n",
            " [-1.01460667 -0.5698444   1.74309049 -0.14999481  0.91601335  3.55496808\n",
            "   1.39076231  0.80633029 -0.92159124  0.64259497  0.9687384  -1.04949755]\n",
            " [ 0.98560362 -0.5698444  -0.57369368 -0.29431972 -1.09168714 -0.65601634\n",
            "   0.35268632  1.48636403  0.8095029   0.64259497 -1.03227043  0.01539358]]\n"
          ],
          "name": "stdout"
        }
      ]
    },
    {
      "cell_type": "markdown",
      "metadata": {
        "id": "Mtua6mbGuT47"
      },
      "source": [
        "# Part 2 - Building the ANN"
      ]
    },
    {
      "cell_type": "markdown",
      "metadata": {
        "id": "VfibK8xJyFip"
      },
      "source": [
        "## Initializing the ANN"
      ]
    },
    {
      "cell_type": "code",
      "metadata": {
        "id": "j0sj6mE-uOuG"
      },
      "source": [
        "ann = tf.keras.models.Sequential()"
      ],
      "execution_count": 134,
      "outputs": []
    },
    {
      "cell_type": "markdown",
      "metadata": {
        "id": "ydpGRe4gyJb3"
      },
      "source": [
        "## Adding the input layer and the first hidden layer"
      ]
    },
    {
      "cell_type": "code",
      "metadata": {
        "id": "3g5GlkNMyCKn"
      },
      "source": [
        "ann.add(tf.keras.layers.Dense(units=6, activation='relu'))"
      ],
      "execution_count": 135,
      "outputs": []
    },
    {
      "cell_type": "markdown",
      "metadata": {
        "id": "XFreejU3yQ0C"
      },
      "source": [
        "## Adding the second hidden layer"
      ]
    },
    {
      "cell_type": "code",
      "metadata": {
        "id": "huifIPe8yggV"
      },
      "source": [
        "ann.add(tf.keras.layers.Dense(units=6, activation='relu'))"
      ],
      "execution_count": 136,
      "outputs": []
    },
    {
      "cell_type": "markdown",
      "metadata": {
        "id": "SFSwiq4VyT4j"
      },
      "source": [
        "## Adding the output layer"
      ]
    },
    {
      "cell_type": "code",
      "metadata": {
        "id": "A_GxgWEpyl2i"
      },
      "source": [
        "ann.add(tf.keras.layers.Dense(units=1, activation='sigmoid'))"
      ],
      "execution_count": 137,
      "outputs": []
    },
    {
      "cell_type": "markdown",
      "metadata": {
        "id": "oxSDwuYNyrBz"
      },
      "source": [
        "# Part 3 - Training the ANN"
      ]
    },
    {
      "cell_type": "markdown",
      "metadata": {
        "id": "lc7IQ2Swyuzz"
      },
      "source": [
        "## Compiling the ANN"
      ]
    },
    {
      "cell_type": "code",
      "metadata": {
        "id": "WcOIPzofyqjH"
      },
      "source": [
        "ann.compile(optimizer='adam', loss='binary_crossentropy', metrics=['accuracy'])"
      ],
      "execution_count": 138,
      "outputs": []
    },
    {
      "cell_type": "markdown",
      "metadata": {
        "id": "iEkwGp20SDnv"
      },
      "source": [
        "## Training the ANN on the Training Set"
      ]
    },
    {
      "cell_type": "code",
      "metadata": {
        "colab": {
          "base_uri": "https://localhost:8080/"
        },
        "id": "LspcPZmdSDAY",
        "outputId": "b7f4ff28-3411-4005-b1fc-faa4b4b9e78c"
      },
      "source": [
        "ann.fit(X_train, y_train, batch_size=32, epochs=100)\r\n",
        "# batch_size = 32 yang umum digunakan\r\n",
        "# epochs tidak boleh terlalu sedikit"
      ],
      "execution_count": 139,
      "outputs": [
        {
          "output_type": "stream",
          "text": [
            "Epoch 1/100\n",
            "250/250 [==============================] - 1s 965us/step - loss: 0.5802 - accuracy: 0.7401\n",
            "Epoch 2/100\n",
            "250/250 [==============================] - 0s 1ms/step - loss: 0.4712 - accuracy: 0.7912\n",
            "Epoch 3/100\n",
            "250/250 [==============================] - 0s 1ms/step - loss: 0.4481 - accuracy: 0.7968\n",
            "Epoch 4/100\n",
            "250/250 [==============================] - 0s 983us/step - loss: 0.4383 - accuracy: 0.7950\n",
            "Epoch 5/100\n",
            "250/250 [==============================] - 0s 968us/step - loss: 0.4302 - accuracy: 0.7985\n",
            "Epoch 6/100\n",
            "250/250 [==============================] - 0s 1ms/step - loss: 0.4189 - accuracy: 0.8028\n",
            "Epoch 7/100\n",
            "250/250 [==============================] - 0s 998us/step - loss: 0.4021 - accuracy: 0.8152\n",
            "Epoch 8/100\n",
            "250/250 [==============================] - 0s 937us/step - loss: 0.3905 - accuracy: 0.8197\n",
            "Epoch 9/100\n",
            "250/250 [==============================] - 0s 967us/step - loss: 0.3803 - accuracy: 0.8300\n",
            "Epoch 10/100\n",
            "250/250 [==============================] - 0s 937us/step - loss: 0.3707 - accuracy: 0.8428\n",
            "Epoch 11/100\n",
            "250/250 [==============================] - 0s 968us/step - loss: 0.3717 - accuracy: 0.8434\n",
            "Epoch 12/100\n",
            "250/250 [==============================] - 0s 974us/step - loss: 0.3631 - accuracy: 0.8463\n",
            "Epoch 13/100\n",
            "250/250 [==============================] - 0s 939us/step - loss: 0.3589 - accuracy: 0.8484\n",
            "Epoch 14/100\n",
            "250/250 [==============================] - 0s 941us/step - loss: 0.3639 - accuracy: 0.8520\n",
            "Epoch 15/100\n",
            "250/250 [==============================] - 0s 954us/step - loss: 0.3627 - accuracy: 0.8477\n",
            "Epoch 16/100\n",
            "250/250 [==============================] - 0s 970us/step - loss: 0.3604 - accuracy: 0.8502\n",
            "Epoch 17/100\n",
            "250/250 [==============================] - 0s 933us/step - loss: 0.3658 - accuracy: 0.8477\n",
            "Epoch 18/100\n",
            "250/250 [==============================] - 0s 1ms/step - loss: 0.3478 - accuracy: 0.8539\n",
            "Epoch 19/100\n",
            "250/250 [==============================] - 0s 1ms/step - loss: 0.3609 - accuracy: 0.8499\n",
            "Epoch 20/100\n",
            "250/250 [==============================] - 0s 975us/step - loss: 0.3529 - accuracy: 0.8564\n",
            "Epoch 21/100\n",
            "250/250 [==============================] - 0s 966us/step - loss: 0.3461 - accuracy: 0.8585\n",
            "Epoch 22/100\n",
            "250/250 [==============================] - 0s 968us/step - loss: 0.3480 - accuracy: 0.8557\n",
            "Epoch 23/100\n",
            "250/250 [==============================] - 0s 941us/step - loss: 0.3439 - accuracy: 0.8564\n",
            "Epoch 24/100\n",
            "250/250 [==============================] - 0s 985us/step - loss: 0.3507 - accuracy: 0.8588\n",
            "Epoch 25/100\n",
            "250/250 [==============================] - 0s 955us/step - loss: 0.3539 - accuracy: 0.8557\n",
            "Epoch 26/100\n",
            "250/250 [==============================] - 0s 943us/step - loss: 0.3430 - accuracy: 0.8640\n",
            "Epoch 27/100\n",
            "250/250 [==============================] - 0s 948us/step - loss: 0.3497 - accuracy: 0.8609\n",
            "Epoch 28/100\n",
            "250/250 [==============================] - 0s 1ms/step - loss: 0.3419 - accuracy: 0.8619\n",
            "Epoch 29/100\n",
            "250/250 [==============================] - 0s 951us/step - loss: 0.3394 - accuracy: 0.8627\n",
            "Epoch 30/100\n",
            "250/250 [==============================] - 0s 950us/step - loss: 0.3401 - accuracy: 0.8603\n",
            "Epoch 31/100\n",
            "250/250 [==============================] - 0s 944us/step - loss: 0.3416 - accuracy: 0.8650\n",
            "Epoch 32/100\n",
            "250/250 [==============================] - 0s 988us/step - loss: 0.3482 - accuracy: 0.8587\n",
            "Epoch 33/100\n",
            "250/250 [==============================] - 0s 949us/step - loss: 0.3409 - accuracy: 0.8626\n",
            "Epoch 34/100\n",
            "250/250 [==============================] - 0s 966us/step - loss: 0.3429 - accuracy: 0.8581\n",
            "Epoch 35/100\n",
            "250/250 [==============================] - 0s 940us/step - loss: 0.3438 - accuracy: 0.8600\n",
            "Epoch 36/100\n",
            "250/250 [==============================] - 0s 981us/step - loss: 0.3316 - accuracy: 0.8673\n",
            "Epoch 37/100\n",
            "250/250 [==============================] - 0s 998us/step - loss: 0.3443 - accuracy: 0.8574\n",
            "Epoch 38/100\n",
            "250/250 [==============================] - 0s 947us/step - loss: 0.3420 - accuracy: 0.8614\n",
            "Epoch 39/100\n",
            "250/250 [==============================] - 0s 969us/step - loss: 0.3360 - accuracy: 0.8627\n",
            "Epoch 40/100\n",
            "250/250 [==============================] - 0s 969us/step - loss: 0.3464 - accuracy: 0.8605\n",
            "Epoch 41/100\n",
            "250/250 [==============================] - 0s 986us/step - loss: 0.3311 - accuracy: 0.8659\n",
            "Epoch 42/100\n",
            "250/250 [==============================] - 0s 968us/step - loss: 0.3526 - accuracy: 0.8553\n",
            "Epoch 43/100\n",
            "250/250 [==============================] - 0s 980us/step - loss: 0.3446 - accuracy: 0.8598\n",
            "Epoch 44/100\n",
            "250/250 [==============================] - 0s 995us/step - loss: 0.3427 - accuracy: 0.8666\n",
            "Epoch 45/100\n",
            "250/250 [==============================] - 0s 1ms/step - loss: 0.3406 - accuracy: 0.8646\n",
            "Epoch 46/100\n",
            "250/250 [==============================] - 0s 972us/step - loss: 0.3361 - accuracy: 0.8642\n",
            "Epoch 47/100\n",
            "250/250 [==============================] - 0s 962us/step - loss: 0.3458 - accuracy: 0.8587\n",
            "Epoch 48/100\n",
            "250/250 [==============================] - 0s 987us/step - loss: 0.3341 - accuracy: 0.8692\n",
            "Epoch 49/100\n",
            "250/250 [==============================] - 0s 975us/step - loss: 0.3246 - accuracy: 0.8690\n",
            "Epoch 50/100\n",
            "250/250 [==============================] - 0s 954us/step - loss: 0.3316 - accuracy: 0.8692\n",
            "Epoch 51/100\n",
            "250/250 [==============================] - 0s 950us/step - loss: 0.3363 - accuracy: 0.8647\n",
            "Epoch 52/100\n",
            "250/250 [==============================] - 0s 1ms/step - loss: 0.3416 - accuracy: 0.8608\n",
            "Epoch 53/100\n",
            "250/250 [==============================] - 0s 973us/step - loss: 0.3329 - accuracy: 0.8631\n",
            "Epoch 54/100\n",
            "250/250 [==============================] - 0s 972us/step - loss: 0.3396 - accuracy: 0.8655\n",
            "Epoch 55/100\n",
            "250/250 [==============================] - 0s 927us/step - loss: 0.3356 - accuracy: 0.8658\n",
            "Epoch 56/100\n",
            "250/250 [==============================] - 0s 973us/step - loss: 0.3309 - accuracy: 0.8673\n",
            "Epoch 57/100\n",
            "250/250 [==============================] - 0s 972us/step - loss: 0.3265 - accuracy: 0.8697\n",
            "Epoch 58/100\n",
            "250/250 [==============================] - 0s 968us/step - loss: 0.3440 - accuracy: 0.8594\n",
            "Epoch 59/100\n",
            "250/250 [==============================] - 0s 966us/step - loss: 0.3386 - accuracy: 0.8646\n",
            "Epoch 60/100\n",
            "250/250 [==============================] - 0s 1ms/step - loss: 0.3461 - accuracy: 0.8598\n",
            "Epoch 61/100\n",
            "250/250 [==============================] - 0s 999us/step - loss: 0.3274 - accuracy: 0.8704\n",
            "Epoch 62/100\n",
            "250/250 [==============================] - 0s 946us/step - loss: 0.3317 - accuracy: 0.8681\n",
            "Epoch 63/100\n",
            "250/250 [==============================] - 0s 978us/step - loss: 0.3274 - accuracy: 0.8664\n",
            "Epoch 64/100\n",
            "250/250 [==============================] - 0s 992us/step - loss: 0.3463 - accuracy: 0.8601\n",
            "Epoch 65/100\n",
            "250/250 [==============================] - 0s 999us/step - loss: 0.3395 - accuracy: 0.8608\n",
            "Epoch 66/100\n",
            "250/250 [==============================] - 0s 1ms/step - loss: 0.3385 - accuracy: 0.8634\n",
            "Epoch 67/100\n",
            "250/250 [==============================] - 0s 1ms/step - loss: 0.3315 - accuracy: 0.8635\n",
            "Epoch 68/100\n",
            "250/250 [==============================] - 0s 998us/step - loss: 0.3524 - accuracy: 0.8572\n",
            "Epoch 69/100\n",
            "250/250 [==============================] - 0s 985us/step - loss: 0.3299 - accuracy: 0.8637\n",
            "Epoch 70/100\n",
            "250/250 [==============================] - 0s 949us/step - loss: 0.3298 - accuracy: 0.8647\n",
            "Epoch 71/100\n",
            "250/250 [==============================] - 0s 970us/step - loss: 0.3467 - accuracy: 0.8584\n",
            "Epoch 72/100\n",
            "250/250 [==============================] - 0s 949us/step - loss: 0.3350 - accuracy: 0.8636\n",
            "Epoch 73/100\n",
            "250/250 [==============================] - 0s 976us/step - loss: 0.3248 - accuracy: 0.8692\n",
            "Epoch 74/100\n",
            "250/250 [==============================] - 0s 945us/step - loss: 0.3473 - accuracy: 0.8583\n",
            "Epoch 75/100\n",
            "250/250 [==============================] - 0s 966us/step - loss: 0.3420 - accuracy: 0.8604\n",
            "Epoch 76/100\n",
            "250/250 [==============================] - 0s 993us/step - loss: 0.3348 - accuracy: 0.8654\n",
            "Epoch 77/100\n",
            "250/250 [==============================] - 0s 988us/step - loss: 0.3512 - accuracy: 0.8569\n",
            "Epoch 78/100\n",
            "250/250 [==============================] - 0s 945us/step - loss: 0.3382 - accuracy: 0.8605\n",
            "Epoch 79/100\n",
            "250/250 [==============================] - 0s 996us/step - loss: 0.3336 - accuracy: 0.8643\n",
            "Epoch 80/100\n",
            "250/250 [==============================] - 0s 963us/step - loss: 0.3350 - accuracy: 0.8665\n",
            "Epoch 81/100\n",
            "250/250 [==============================] - 0s 985us/step - loss: 0.3362 - accuracy: 0.8638\n",
            "Epoch 82/100\n",
            "250/250 [==============================] - 0s 955us/step - loss: 0.3282 - accuracy: 0.8702\n",
            "Epoch 83/100\n",
            "250/250 [==============================] - 0s 963us/step - loss: 0.3398 - accuracy: 0.8618\n",
            "Epoch 84/100\n",
            "250/250 [==============================] - 0s 945us/step - loss: 0.3270 - accuracy: 0.8655\n",
            "Epoch 85/100\n",
            "250/250 [==============================] - 0s 1ms/step - loss: 0.3382 - accuracy: 0.8607\n",
            "Epoch 86/100\n",
            "250/250 [==============================] - 0s 970us/step - loss: 0.3340 - accuracy: 0.8662\n",
            "Epoch 87/100\n",
            "250/250 [==============================] - 0s 925us/step - loss: 0.3445 - accuracy: 0.8602\n",
            "Epoch 88/100\n",
            "250/250 [==============================] - 0s 978us/step - loss: 0.3315 - accuracy: 0.8663\n",
            "Epoch 89/100\n",
            "250/250 [==============================] - 0s 988us/step - loss: 0.3341 - accuracy: 0.8630\n",
            "Epoch 90/100\n",
            "250/250 [==============================] - 0s 977us/step - loss: 0.3449 - accuracy: 0.8606\n",
            "Epoch 91/100\n",
            "250/250 [==============================] - 0s 944us/step - loss: 0.3369 - accuracy: 0.8678\n",
            "Epoch 92/100\n",
            "250/250 [==============================] - 0s 983us/step - loss: 0.3396 - accuracy: 0.8598\n",
            "Epoch 93/100\n",
            "250/250 [==============================] - 0s 1ms/step - loss: 0.3268 - accuracy: 0.8662\n",
            "Epoch 94/100\n",
            "250/250 [==============================] - 0s 1ms/step - loss: 0.3344 - accuracy: 0.8632\n",
            "Epoch 95/100\n",
            "250/250 [==============================] - 0s 1ms/step - loss: 0.3448 - accuracy: 0.8571\n",
            "Epoch 96/100\n",
            "250/250 [==============================] - 0s 979us/step - loss: 0.3332 - accuracy: 0.8628\n",
            "Epoch 97/100\n",
            "250/250 [==============================] - 0s 985us/step - loss: 0.3389 - accuracy: 0.8612\n",
            "Epoch 98/100\n",
            "250/250 [==============================] - 0s 1ms/step - loss: 0.3437 - accuracy: 0.8610\n",
            "Epoch 99/100\n",
            "250/250 [==============================] - 0s 951us/step - loss: 0.3349 - accuracy: 0.8652\n",
            "Epoch 100/100\n",
            "250/250 [==============================] - 0s 961us/step - loss: 0.3328 - accuracy: 0.8643\n"
          ],
          "name": "stdout"
        },
        {
          "output_type": "execute_result",
          "data": {
            "text/plain": [
              "<tensorflow.python.keras.callbacks.History at 0x7fc9595c21d0>"
            ]
          },
          "metadata": {
            "tags": []
          },
          "execution_count": 139
        }
      ]
    },
    {
      "cell_type": "markdown",
      "metadata": {
        "id": "9VYtbv1dSr_P"
      },
      "source": [
        "# Part 4 - Making the predictions and evaluating the model"
      ]
    },
    {
      "cell_type": "markdown",
      "metadata": {
        "id": "LqQksVyAS1h5"
      },
      "source": [
        "## Predicting result of a single observation"
      ]
    },
    {
      "cell_type": "code",
      "metadata": {
        "colab": {
          "base_uri": "https://localhost:8080/"
        },
        "id": "ghcjHeawSXD8",
        "outputId": "a2fb0426-fffc-41fa-a50f-71228cbe1cec"
      },
      "source": [
        "data = np.array([[600, 'France', 'Male', 40, 3, 60000, 2, 1, 1, 50000]])\r\n",
        "data[:,2] = le.transform(data[:,2]) \r\n",
        "data = ct.transform(data)\r\n",
        "data = sc.transform(data)\r\n",
        "print(data)"
      ],
      "execution_count": 140,
      "outputs": [
        {
          "output_type": "stream",
          "text": [
            "[[ 0.98560362 -0.5698444  -0.57369368 -0.52111599  0.91601335  0.10961719\n",
            "  -0.68538967 -0.2569057   0.8095029   0.64259497  0.9687384  -0.87203322]]\n"
          ],
          "name": "stdout"
        }
      ]
    },
    {
      "cell_type": "code",
      "metadata": {
        "colab": {
          "base_uri": "https://localhost:8080/"
        },
        "id": "kVhLGv2lU9v9",
        "outputId": "1420e2a0-8eae-4c8a-ec99-0afb8ab6490c"
      },
      "source": [
        "print(ann.predict(data))"
      ],
      "execution_count": 143,
      "outputs": [
        {
          "output_type": "stream",
          "text": [
            "[[0.03830147]]\n"
          ],
          "name": "stdout"
        }
      ]
    },
    {
      "cell_type": "code",
      "metadata": {
        "colab": {
          "base_uri": "https://localhost:8080/"
        },
        "id": "9sv3YJhXVFqV",
        "outputId": "af9acbbd-d8d3-44d9-c78c-99091c174481"
      },
      "source": [
        "print(ann.predict(data) > 0.5)"
      ],
      "execution_count": 144,
      "outputs": [
        {
          "output_type": "stream",
          "text": [
            "[[False]]\n"
          ],
          "name": "stdout"
        }
      ]
    },
    {
      "cell_type": "markdown",
      "metadata": {
        "id": "AGaT_I52axRe"
      },
      "source": [
        "## Predicting the Test Set results"
      ]
    },
    {
      "cell_type": "code",
      "metadata": {
        "colab": {
          "base_uri": "https://localhost:8080/"
        },
        "id": "vjklerewa4hN",
        "outputId": "25f71551-3e03-40f0-cdaf-c1612b4b35fa"
      },
      "source": [
        "y_pred = ann.predict(X_test)\r\n",
        "y_pred = (y_pred > 0.5)\r\n",
        "print(np.concatenate((y_pred.reshape(len(y_pred), 1), y_test.reshape(len(y_test), 1)), 1))"
      ],
      "execution_count": 158,
      "outputs": [
        {
          "output_type": "stream",
          "text": [
            "[[0 0]\n",
            " [0 1]\n",
            " [0 0]\n",
            " ...\n",
            " [0 0]\n",
            " [0 0]\n",
            " [0 0]]\n"
          ],
          "name": "stdout"
        }
      ]
    },
    {
      "cell_type": "markdown",
      "metadata": {
        "id": "yQPQ5TK0a2DP"
      },
      "source": [
        "## Making the Confusion Matrix"
      ]
    },
    {
      "cell_type": "code",
      "metadata": {
        "colab": {
          "base_uri": "https://localhost:8080/"
        },
        "id": "Dx_pHNt0e85L",
        "outputId": "d0094872-0513-4eaf-8df8-a727a84c71fd"
      },
      "source": [
        "from sklearn.metrics import confusion_matrix, accuracy_score\r\n",
        "\r\n",
        "cm = confusion_matrix(y_test, y_pred)\r\n",
        "print(cm)\r\n",
        "print('Accuracy: ', accuracy_score(y_test, y_pred))"
      ],
      "execution_count": 159,
      "outputs": [
        {
          "output_type": "stream",
          "text": [
            "[[1514   81]\n",
            " [ 195  210]]\n",
            "Accuracy:  0.862\n"
          ],
          "name": "stdout"
        }
      ]
    }
  ]
}